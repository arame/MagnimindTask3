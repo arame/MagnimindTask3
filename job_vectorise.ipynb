{
 "cells": [
  {
   "attachments": {},
   "cell_type": "markdown",
   "metadata": {},
   "source": [
    "The scripts should be run in order.\n",
    "<br> Currently you are on \n",
    "<br>&emsp;&emsp;resume.ipynb\n",
    "<br>&emsp;&emsp;job_selection.ipynb\n",
    "<br>&ensp;->&nbsp;job_vectorise.ipynb"
   ]
  },
  {
   "cell_type": "code",
   "execution_count": 3,
   "metadata": {},
   "outputs": [
    {
     "name": "stdout",
     "output_type": "stream",
     "text": [
      "2022-12-25 21:35:45,848 | INFO : Loading pickle file from: pickle\\pkl_df_selected_jobs.pkl\n"
     ]
    }
   ],
   "source": [
    "from glob import glob\n",
    "from bs4 import BeautifulSoup\n",
    "import logging, importlib, sys, tqdm\n",
    "import spacy\n",
    "import pickle\n",
    "import pandas as pd\n",
    "from spacy.lang.en import English\n",
    "from spacy.lang.en.stop_words import STOP_WORDS\n",
    "from sklearn.feature_extraction.text import CountVectorizer\n",
    "from _pckle import save_pickle_object, load_pickle_object\n",
    "from _logging import set_logging\n",
    "from _save_file import save_file\n",
    "\n",
    "set_logging(logging)\n",
    "file_selected_jobs = \"pkl_df_selected_jobs.pkl\"\n",
    "df_jobs = load_pickle_object(file_selected_jobs)\n",
    "nlp = English()"
   ]
  },
  {
   "cell_type": "code",
   "execution_count": 4,
   "metadata": {},
   "outputs": [],
   "source": [
    "def tokenise_words(text, nlp):\n",
    "    word_tokens = nlp(text)\n",
    "    # converts the words in word_tokens to lower case and then checks whether\n",
    "    # they are present in stop_words or not\n",
    "    tokens = [w for w in word_tokens if not w.is_stop and not w.is_punct and not w.is_space]\n",
    "\n",
    "    return tokens"
   ]
  },
  {
   "cell_type": "code",
   "execution_count": 12,
   "metadata": {},
   "outputs": [],
   "source": [
    "list_body_tokens = []\n",
    "list_bullet_point_tokens = []\n",
    "for i, row in df_jobs.iterrows():\n",
    "    body = row[\"Body\"]\n",
    "    body_tokens = tokenise_words(body, nlp)\n",
    "    bullet_points = row[\"Bullet_Points\"]\n",
    "    bullet_point_tokens = tokenise_words(bullet_points, nlp)\n",
    "    list_body_tokens.append(body_tokens)\n",
    "    list_bullet_point_tokens.append(bullet_point_tokens)\n"
   ]
  },
  {
   "cell_type": "code",
   "execution_count": 14,
   "metadata": {},
   "outputs": [],
   "source": [
    "df_body_tokens = pd.DataFrame({'Body_Tokens': list_body_tokens})\n",
    "df_bullet_point_tokens = pd.DataFrame({'Bullet_Point_Tokens': list_bullet_point_tokens})\n",
    "df_jobs = pd.concat([df_jobs, df_body_tokens], axis=1)\n",
    "df_jobs = pd.concat([df_jobs, df_bullet_point_tokens], axis=1)"
   ]
  }
 ],
 "metadata": {
  "kernelspec": {
   "display_name": "base",
   "language": "python",
   "name": "python3"
  },
  "language_info": {
   "codemirror_mode": {
    "name": "ipython",
    "version": 3
   },
   "file_extension": ".py",
   "mimetype": "text/x-python",
   "name": "python",
   "nbconvert_exporter": "python",
   "pygments_lexer": "ipython3",
   "version": "3.9.13"
  },
  "orig_nbformat": 4,
  "vscode": {
   "interpreter": {
    "hash": "b41ba045e83f0be7a0a86cbeef029bed6bb1f3047ea5aef815a52ba8b6ba543c"
   }
  }
 },
 "nbformat": 4,
 "nbformat_minor": 2
}
